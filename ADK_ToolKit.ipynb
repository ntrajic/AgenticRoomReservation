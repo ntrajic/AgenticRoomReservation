{
  "nbformat": 4,
  "nbformat_minor": 5,
  "metadata": {
    "colab": {
      "provenance": [],
      "include_colab_link": true
    },
    "kernelspec": {
      "display_name": "Python 3",
      "name": "python3"
    },
    "language_info": {
      "name": "python"
    }
  },
  "cells": [
    {
      "cell_type": "markdown",
      "metadata": {
        "id": "view-in-github",
        "colab_type": "text"
      },
      "source": [
        "<a href=\"https://colab.research.google.com/github/ntrajic/AgenticRoomReservation/blob/main/ADK_ToolKit.ipynb\" target=\"_parent\"><img src=\"https://colab.research.google.com/assets/colab-badge.svg\" alt=\"Open In Colab\"/></a>"
      ]
    },
    {
      "cell_type": "markdown",
      "source": [
        "# 🚀 The Ultimate ADK Toolkit: A Developer's Guide to Tool Integration 🚀\n",
        "\n",
        "Welcome, Agent Architect! This notebook is your definitive guide to giving AI agents superpowers through **tool integration**. An agent's true power isn't just its language model; it's its ability to connect to and interact with the outside world. We will explore the entire spectrum of tool integration patterns available in the Google Agent Development Kit (ADK).\n",
        "\n",
        "By the end of this adventure, you will master how to:\n",
        "\n",
        "- ✅ **Use Built-in & Custom Function Tools**: The foundational patterns for giving an agent new skills.\n",
        "- ✅ **Generate Tools from Specifications**: Automatically create toolsets from **OpenAPI** specs and connect to enterprise APIs in **Google Cloud API Hub**.\n",
        "- ✅ **Connect to Live Tool Servers**: Use **MCP** to have your agent dynamically discover tools hosted anywhere on the web.\n",
        "- ✅ **Integrate with Other Frameworks**: Seamlessly use tools from the **LangChain** ecosystem directly within your ADK agent.\n",
        "- ✅ **Share State Between Tools**: Use `ToolContext` to enable complex, multi-step workflows where tools can pass information to each other.\n",
        "- ✅ **Build Multi-Agent Systems**: Create sophisticated systems where a primary \"orchestrator\" agent can delegate tasks to specialist agents.\n",
        "\n",
        "Let's dive into the toolkit!"
      ],
      "metadata": {
        "id": "intro"
      },
      "id": "intro"
    },
    {
      "cell_type": "markdown",
      "source": [
        "---\n",
        "## Author\n",
        "\n",
        "Hi, I'm Qingyue (Annie) Wang, a Developer Advocate and AI Engineer at **Google**. I'm passionate about helping developers build amazing things with AI and cloud technologies.\n",
        "\n",
        "If you have questions about this notebook, feel free to reach out on [LinkedIn](https://www.linkedin.com/in/qingyuewang/) or [X (formerly Twitter)](https://twitter.com/qingyuewang).\n",
        "\n",
        "ADK Agents Tutorial: https://codelabs.developers.google.com/onramp/instructions#1\n",
        "\n",
        "```\n",
        " (\\__/)\n",
        " (•ㅅ•)\n",
        " /づ  📚      Enjoy learning about AI Agents!\n",
        "```"
      ],
      "metadata": {
        "id": "author"
      },
      "id": "author"
    },
    {
      "cell_type": "markdown",
      "source": [
        "---\n",
        "### 🎁 🛑 Important Prerequisite: Setup Your Environment! 🛑 🎁\n",
        "-----------------------------------------------------------------------------\n",
        "\n",
        "You will need a **Google AI API Key** to run this notebook.\n",
        "\n",
        "👉 **Get Your Key HERE**: [https://codelabs.developers.google.com/onramp/instructions#1](https://codelabs.developers.google.com/onramp/instructions#1)\n",
        "\n",
        "*Note: The LangChain integration in Part 4 requires an additional API key from a service like Tavily, which has a free tier.*\n",
        "\n",
        "-----------------------------------------------------------------------------\n",
        "```\n",
        " ⬆️  ⬆️  ⬆️  ⬆️  ⬆️  ⬆️  ⬆️  ⬆️  ⬆️  ⬆️  ⬆️  ⬆️  ⬆️  ⬆️  ⬆️\n",
        "   /\\_/\\     /\\_/\\     /\\_/\\      /\\_/\\      /\\_/\\\n",
        "  ( ^_^ )   ( -.- )   ( >_< )   ( =^.^= )   ( o_o )\n",
        "```"
      ],
      "metadata": {
        "id": "prereq"
      },
      "id": "prereq"
    },
    {
      "cell_type": "markdown",
      "source": [
        "---\n",
        "## Part 0: Setup & Authentication 🔑\n",
        "\n",
        "Let's install all necessary libraries and configure your API key. This single setup will prepare you for every example in the notebook."
      ],
      "metadata": {
        "id": "setup_intro"
      },
      "id": "setup_intro"
    },
    {
      "cell_type": "code",
      "execution_count": null,
      "metadata": {
        "id": "install_code",
        "colab": {
          "base_uri": "https://localhost:8080/"
        },
        "outputId": "d46b4023-a12b-4434-b7d3-0548de70958e"
      },
      "outputs": [
        {
          "output_type": "stream",
          "name": "stdout",
          "text": [
            "✅ All libraries are installed and ready to go!\n"
          ]
        }
      ],
      "source": [
        "# Install all the packages we'll need for this entire tutorial\n",
        "# This includes the ADK, Google's AI library, and libraries for specific integrations\n",
        "!pip install google-adk google-generativeai mcp requests nest-asyncio langchain-community tavily-python wikipedia -q\n",
        "\n",
        "# --- Import all necessary libraries ---\n",
        "import asyncio\n",
        "import os\n",
        "import json\n",
        "import requests\n",
        "import traceback\n",
        "from getpass import getpass\n",
        "from IPython.display import display, Markdown\n",
        "\n",
        "# ADK and Tool imports\n",
        "from google.adk.agents import Agent\n",
        "from google.adk.tools import google_search, ToolContext\n",
        "from google.adk.tools.agent_tool import AgentTool\n",
        "from google.adk.tools.openapi_tool import OpenAPIToolset\n",
        "from google.adk.tools.mcp_tool.mcp_toolset import MCPToolset\n",
        "from google.adk.tools.mcp_tool.mcp_session_manager import SseServerParams\n",
        "from google.adk.tools.langchain_tool import LangchainTool\n",
        "# Note: APIHubToolset is shown for conceptual purposes\n",
        "# from google.adk.tools.apihub_tool import APIHubToolset\n",
        "\n",
        "from google.adk.runners import Runner\n",
        "from google.adk.sessions import InMemorySessionService, Session\n",
        "\n",
        "# Google AI imports\n",
        "import google.generativeai as genai\n",
        "from google.genai.types import Content, Part\n",
        "\n",
        "# LangChain imports for Part 4\n",
        "from langchain_community.tools import TavilySearchResults\n",
        "\n",
        "# A helper to run async ADK code in Colab/Jupyter\n",
        "import nest_asyncio\n",
        "nest_asyncio.apply()\n",
        "\n",
        "print(\"✅ All libraries are installed and ready to go!\")"
      ],
      "id": "install_code"
    },
    {
      "cell_type": "code",
      "source": [
        "google_api_key = getpass('Enter your Google API Key: ')\n",
        "genai.configure(api_key=google_api_key)\n",
        "os.environ['GOOGLE_API_KEY'] = google_api_key\n",
        "print(\"✅ Google API Key configured.\")"
      ],
      "metadata": {
        "colab": {
          "base_uri": "https://localhost:8080/"
        },
        "id": "EUbnRdaSktt4",
        "outputId": "c8d43609-879f-4a4a-91f2-52cda09f8d00"
      },
      "id": "EUbnRdaSktt4",
      "execution_count": null,
      "outputs": [
        {
          "output_type": "stream",
          "name": "stdout",
          "text": [
            "Enter your Google API Key: ··········\n",
            "✅ Google API Key configured.\n"
          ]
        }
      ]
    },
    {
      "cell_type": "markdown",
      "source": [
        "### A Helper Function to Run Our Agents\n",
        "To keep our code clean, we'll define a single helper function to manage running our agents."
      ],
      "metadata": {
        "id": "helper_intro"
      },
      "id": "helper_intro"
    },
    {
      "cell_type": "code",
      "execution_count": null,
      "metadata": {
        "id": "helper_code",
        "colab": {
          "base_uri": "https://localhost:8080/"
        },
        "outputId": "5b51ee21-765d-4406-94b9-db56f472b026"
      },
      "outputs": [
        {
          "output_type": "stream",
          "name": "stdout",
          "text": [
            "✅ Agent query helper function defined.\n"
          ]
        }
      ],
      "source": [
        "# Initialize a session service to manage conversations\n",
        "session_service = InMemorySessionService()\n",
        "my_user_id = \"adk_toolkit_user\"\n",
        "\n",
        "async def run_agent_query(agent: Agent, query: str):\n",
        "    \"\"\"A reusable function to run a query against any agent.\"\"\"\n",
        "    session = await session_service.create_session(app_name=agent.name, user_id=my_user_id)\n",
        "    print(f\"\\n🚀 Running query for agent: '{agent.name}'...\")\n",
        "\n",
        "    runner = Runner(agent=agent, session_service=session_service, app_name=agent.name)\n",
        "    final_response = \"\"\n",
        "    try:\n",
        "        async for event in runner.run_async(\n",
        "            user_id=my_user_id,\n",
        "            session_id=session.id,\n",
        "            new_message=Content(parts=[Part(text=query)], role=\"user\")\n",
        "        ):\n",
        "            # To see the agent's full thought process, uncomment the line below\n",
        "            # print(f\"EVENT: {event}\")\n",
        "            if event.is_final_response() and event.content.parts:\n",
        "                final_response += event.content.parts[0].text\n",
        "    except Exception as e:\n",
        "        final_response = f\"An error occurred: {e}\"\n",
        "        print(\"\\n🔍 Full traceback:\")\n",
        "        print(traceback.format_exc())\n",
        "\n",
        "    print(\"\\n\" + \"-\"*50)\n",
        "    print(\"✅ Final Response:\")\n",
        "    display(Markdown(final_response))\n",
        "    print(\"-\"*50 + \"\\n\")\n",
        "    return final_response\n",
        "\n",
        "print(\"✅ Agent query helper function defined.\")"
      ],
      "id": "helper_code"
    },
    {
      "cell_type": "markdown",
      "source": [
        "---\n",
        "\n",
        "## Part 1: The Basics - Direct Tooling\n",
        "\n",
        "These are the most fundamental ways to give an agent new skills."
      ],
      "metadata": {
        "id": "part1_intro"
      },
      "id": "part1_intro"
    },
    {
      "cell_type": "markdown",
      "source": [
        "### 1.1 Built-in Tools\n",
        "The ADK comes with pre-packaged tools. `Google Search` is the perfect example, giving your agent immediate access to real-time information."
      ],
      "metadata": {
        "id": "builtin_intro"
      },
      "id": "builtin_intro"
    },
    {
      "cell_type": "code",
      "execution_count": null,
      "metadata": {
        "id": "builtin_code",
        "colab": {
          "base_uri": "https://localhost:8080/",
          "height": 1000
        },
        "outputId": "e63633dc-9c6c-42da-b198-3e3230f478c5"
      },
      "outputs": [
        {
          "output_type": "stream",
          "name": "stdout",
          "text": [
            "\n",
            "🚀 Running query for agent: 'search_agent'...\n",
            "\n",
            "--------------------------------------------------\n",
            "✅ Final Response:\n"
          ]
        },
        {
          "output_type": "display_data",
          "data": {
            "text/plain": [
              "<IPython.core.display.Markdown object>"
            ],
            "text/markdown": "The Artemis program, led by NASA, continues to advance with several key developments and updated timelines for its ambitious lunar exploration missions. The program aims to establish a long-term human presence on the Moon and prepare for future human missions to Mars.\n\nHere's a summary of the latest news:\n\n**Mission Schedule Updates:**\n*   **Artemis II:** The first crewed Artemis mission, a lunar flyby, is now targeting a launch in **early 2026**, potentially as early as February 2026. This is an acceleration from a previously announced April 2026 target, though it followed earlier delays from September 2025 due to issues with the Artemis I heat shield and life support system analysis. The European Service Module for this mission was handed over to NASA in 2023, and testing on the Orion module is underway. The SLS for Artemis II is fully stacked on Mobile Launcher 1, awaiting the Orion spacecraft and its ascent abort motor fairing.\n*   **Artemis III:** This mission, planned to be the first American crewed lunar landing since 1972, is now scheduled for **mid-2027**. It was previously delayed from September 2026, also due to the Artemis I heat shield concerns. Artemis III will utilize Blue Origin's Blue Moon lander to transport astronauts to the Moon's surface.\n*   **Artemis IV:** The mission to dock with the Lunar Gateway space station, remains on track for **late 2028**.\n*   **Artemis V:** This mission, which will deliver four astronauts to the Lunar Gateway and be the third lunar landing, is planned for **early 2030**. It will also deliver two new elements to the Gateway space station and be the first lunar landing since Apollo 17 to use an unpressurized lunar rover.\n*   **Artemis VI:** Expected in **early 2031**, this mission will integrate the Crew and Science Airlock with the Lunar Gateway station.\n*   **Artemis VII:** Planned for **early 2032**, this mission aims to deliver the Habitable Mobility Platform (Lunar Cruiser) to the lunar surface.\n*   After Artemis VI, NASA plans yearly landings on the Moon.\n\n**Recent Developments and Activities:**\n*   In April 2024, three companies won NASA contracts to develop Artemis moon rover designs, competing for a single contract for actual development after a year to perfect their designs.\n*   Commercial moon landers are actively involved, with \"Blue Moon\" from Firefly and \"Resilience\" from ispace being carried into space by a SpaceX rocket in January, part of an ongoing push for private-sector lunar exploration experience.\n*   A ship-to-ship propellant transfer demonstration is expected in 2025 to further prove out this capability.\n*   In June 2024, the first integrated test for Artemis III was conducted, including next-generation spacesuits by Axiom Space and the airlock module of Starship HLS.\n*   Teams at NASA's Kennedy Space Center practiced Artemis mission emergency escape procedures in August 2024.\n*   The Orion spacecraft for Artemis II was delivered to NASA in May 2025 for prelaunch preparations.\n*   The liquid hydrogen tank for the Artemis III Space Launch System rocket was moved into its final assembly area in April 2025.\n*   The habitat module for the Moon-orbiting Gateway space station arrived in the US.\n*   Norway became the 55th nation to sign the NASA Artemis Accords for peaceful space exploration.\n*   There was an anomaly during a static fire test of a solid rocket engine for NASA's Space Launch System rocket in June 2025, where a nozzle blew off.\n\n**Future Outlook:**\n*   NASA is looking for ways to enable an earlier launch for Artemis II if possible.\n*   NASA has asked SpaceX and Blue Origin to begin applying their landing system development knowledge towards future variations that could deliver large cargo on later missions.\n*   The proposed NASA budget for Fiscal Year 2026 aims to end the SLS and Orion programs after the Artemis III lunar landing, creating uncertainty for the program's future beyond that mission."
          },
          "metadata": {}
        },
        {
          "output_type": "stream",
          "name": "stdout",
          "text": [
            "--------------------------------------------------\n",
            "\n"
          ]
        },
        {
          "output_type": "execute_result",
          "data": {
            "text/plain": [
              "'The Artemis program, led by NASA, continues to advance with several key developments and updated timelines for its ambitious lunar exploration missions. The program aims to establish a long-term human presence on the Moon and prepare for future human missions to Mars.\\n\\nHere\\'s a summary of the latest news:\\n\\n**Mission Schedule Updates:**\\n*   **Artemis II:** The first crewed Artemis mission, a lunar flyby, is now targeting a launch in **early 2026**, potentially as early as February 2026. This is an acceleration from a previously announced April 2026 target, though it followed earlier delays from September 2025 due to issues with the Artemis I heat shield and life support system analysis. The European Service Module for this mission was handed over to NASA in 2023, and testing on the Orion module is underway. The SLS for Artemis II is fully stacked on Mobile Launcher 1, awaiting the Orion spacecraft and its ascent abort motor fairing.\\n*   **Artemis III:** This mission, planned to be the first American crewed lunar landing since 1972, is now scheduled for **mid-2027**. It was previously delayed from September 2026, also due to the Artemis I heat shield concerns. Artemis III will utilize Blue Origin\\'s Blue Moon lander to transport astronauts to the Moon\\'s surface.\\n*   **Artemis IV:** The mission to dock with the Lunar Gateway space station, remains on track for **late 2028**.\\n*   **Artemis V:** This mission, which will deliver four astronauts to the Lunar Gateway and be the third lunar landing, is planned for **early 2030**. It will also deliver two new elements to the Gateway space station and be the first lunar landing since Apollo 17 to use an unpressurized lunar rover.\\n*   **Artemis VI:** Expected in **early 2031**, this mission will integrate the Crew and Science Airlock with the Lunar Gateway station.\\n*   **Artemis VII:** Planned for **early 2032**, this mission aims to deliver the Habitable Mobility Platform (Lunar Cruiser) to the lunar surface.\\n*   After Artemis VI, NASA plans yearly landings on the Moon.\\n\\n**Recent Developments and Activities:**\\n*   In April 2024, three companies won NASA contracts to develop Artemis moon rover designs, competing for a single contract for actual development after a year to perfect their designs.\\n*   Commercial moon landers are actively involved, with \"Blue Moon\" from Firefly and \"Resilience\" from ispace being carried into space by a SpaceX rocket in January, part of an ongoing push for private-sector lunar exploration experience.\\n*   A ship-to-ship propellant transfer demonstration is expected in 2025 to further prove out this capability.\\n*   In June 2024, the first integrated test for Artemis III was conducted, including next-generation spacesuits by Axiom Space and the airlock module of Starship HLS.\\n*   Teams at NASA\\'s Kennedy Space Center practiced Artemis mission emergency escape procedures in August 2024.\\n*   The Orion spacecraft for Artemis II was delivered to NASA in May 2025 for prelaunch preparations.\\n*   The liquid hydrogen tank for the Artemis III Space Launch System rocket was moved into its final assembly area in April 2025.\\n*   The habitat module for the Moon-orbiting Gateway space station arrived in the US.\\n*   Norway became the 55th nation to sign the NASA Artemis Accords for peaceful space exploration.\\n*   There was an anomaly during a static fire test of a solid rocket engine for NASA\\'s Space Launch System rocket in June 2025, where a nozzle blew off.\\n\\n**Future Outlook:**\\n*   NASA is looking for ways to enable an earlier launch for Artemis II if possible.\\n*   NASA has asked SpaceX and Blue Origin to begin applying their landing system development knowledge towards future variations that could deliver large cargo on later missions.\\n*   The proposed NASA budget for Fiscal Year 2026 aims to end the SLS and Orion programs after the Artemis III lunar landing, creating uncertainty for the program\\'s future beyond that mission.'"
            ],
            "application/vnd.google.colaboratory.intrinsic+json": {
              "type": "string"
            }
          },
          "metadata": {},
          "execution_count": 19
        }
      ],
      "source": [
        "# Define an agent and give it the built-in Google Search tool\n",
        "search_agent = Agent(\n",
        "    name=\"search_agent\",\n",
        "    model=\"gemini-2.5-flash\",\n",
        "    instruction=\"You are a helpful search assistant. Answer the user's question using Google Search.\",\n",
        "    tools=[google_search]\n",
        ")\n",
        "\n",
        "# Run the agent\n",
        "await run_agent_query(search_agent, \"What is the latest news about the Artemis program?\")"
      ],
      "id": "builtin_code"
    },
    {
      "cell_type": "markdown",
      "source": [
        "### 1.2 Custom Function Tools\n",
        "This is the most common pattern: wrapping your own Python function into a tool. The function's **docstring** is crucial, as it tells the LLM what the tool does and when to use it. Here, we'll create a tool to fetch live weather data from the public U.S. National Weather Service API."
      ],
      "metadata": {
        "id": "custom_function_intro"
      },
      "id": "custom_function_intro"
    },
    {
      "cell_type": "code",
      "execution_count": null,
      "metadata": {
        "id": "custom_function_code",
        "colab": {
          "base_uri": "https://localhost:8080/",
          "height": 345
        },
        "outputId": "bc80bc3e-5a52-46c5-d4b1-bda2b6e1cdcc"
      },
      "outputs": [
        {
          "output_type": "stream",
          "name": "stdout",
          "text": [
            "🌦️ Agent 'weather_aware_planner' is created and can now call a live weather API!\n",
            "\n",
            "🚀 Running query for agent: 'weather_aware_planner'...\n"
          ]
        },
        {
          "output_type": "stream",
          "name": "stderr",
          "text": [
            "WARNING:google_genai.types:Warning: there are non-text parts in the response: ['thought_signature', 'function_call'], returning concatenated text result from text parts. Check the full candidates.content.parts accessor to get the full model response.\n"
          ]
        },
        {
          "output_type": "stream",
          "name": "stdout",
          "text": [
            "\n",
            "🛠️ TOOL CALLED: get_live_weather_forecast(location='Lake Tahoe')\n",
            "\n"
          ]
        },
        {
          "output_type": "stream",
          "name": "stderr",
          "text": [
            "WARNING:google_genai.types:Warning: there are non-text parts in the response: ['thought_signature'], returning concatenated text result from text parts. Check the full candidates.content.parts accessor to get the full model response.\n"
          ]
        },
        {
          "output_type": "stream",
          "name": "stdout",
          "text": [
            "\n",
            "--------------------------------------------------\n",
            "✅ Final Response:\n"
          ]
        },
        {
          "output_type": "display_data",
          "data": {
            "text/plain": [
              "<IPython.core.display.Markdown object>"
            ],
            "text/markdown": "The weather near Lake Tahoe tomorrow will be mostly clear, with a low around 52°F and a west wind around 5 mph. It sounds like great weather for a hike!"
          },
          "metadata": {}
        },
        {
          "output_type": "stream",
          "name": "stdout",
          "text": [
            "--------------------------------------------------\n",
            "\n"
          ]
        },
        {
          "output_type": "execute_result",
          "data": {
            "text/plain": [
              "'The weather near Lake Tahoe tomorrow will be mostly clear, with a low around 52°F and a west wind around 5 mph. It sounds like great weather for a hike!'"
            ],
            "application/vnd.google.colaboratory.intrinsic+json": {
              "type": "string"
            }
          },
          "metadata": {},
          "execution_count": 20
        }
      ],
      "source": [
        "# --- Tool Definition: A function that calls a live public API ---\n",
        "# A simple lookup to avoid needing a separate geocoding API for this example\n",
        "LOCATION_COORDINATES = {\n",
        "    \"sunnyvale\": \"37.3688,-122.0363\",\n",
        "    \"san francisco\": \"37.7749,-122.4194\",\n",
        "    \"lake tahoe\": \"39.0968,-120.0324\"\n",
        "}\n",
        "\n",
        "def get_live_weather_forecast(location: str) -> dict:\n",
        "    \"\"\"Gets the current, real-time weather forecast for a specified location in the US.\n",
        "\n",
        "    Args:\n",
        "        location: The city name, e.g., \"San Francisco\".\n",
        "\n",
        "    Returns:\n",
        "        A dictionary containing the temperature and a detailed forecast.\n",
        "    \"\"\"\n",
        "    print(f\"\\n🛠️ TOOL CALLED: get_live_weather_forecast(location='{location}')\\n\")\n",
        "\n",
        "    # Find coordinates for the location\n",
        "    normalized_location = location.lower()\n",
        "    coords_str = None\n",
        "    for key, val in LOCATION_COORDINATES.items():\n",
        "        if key in normalized_location:\n",
        "            coords_str = val\n",
        "            break\n",
        "    if not coords_str:\n",
        "        return {\"status\": \"error\", \"message\": f\"I don't have coordinates for {location}.\"}\n",
        "\n",
        "    try:\n",
        "        # NWS API requires 2 steps: 1. Get the forecast URL from the coordinates.\n",
        "        points_url = f\"https://api.weather.gov/points/{coords_str}\"\n",
        "        headers = {\"User-Agent\": \"ADK Example Notebook\"}\n",
        "        points_response = requests.get(points_url, headers=headers)\n",
        "        points_response.raise_for_status() # Raise an exception for bad status codes\n",
        "        forecast_url = points_response.json()['properties']['forecast']\n",
        "\n",
        "        # 2. Get the actual forecast from the URL.\n",
        "        forecast_response = requests.get(forecast_url, headers=headers)\n",
        "        forecast_response.raise_for_status()\n",
        "\n",
        "        # Extract the relevant forecast details\n",
        "        current_period = forecast_response.json()['properties']['periods'][0]\n",
        "        return {\n",
        "            \"status\": \"success\",\n",
        "            \"temperature\": f\"{current_period['temperature']}°{current_period['temperatureUnit']}\",\n",
        "            \"forecast\": current_period['detailedForecast']\n",
        "        }\n",
        "    except requests.exceptions.RequestException as e:\n",
        "        return {\"status\": \"error\", \"message\": f\"API request failed: {e}\"}\n",
        "\n",
        "# --- Agent Definition: An agent that USES the new tool ---\n",
        "weather_agent = Agent(\n",
        "    name=\"weather_aware_planner\",\n",
        "    model=\"gemini-2.5-flash\",\n",
        "    description=\"A trip planner that checks the real-time weather before making suggestions.\",\n",
        "    instruction=\"You are a cautious trip planner. Before suggesting any outdoor activities, you MUST use the `get_live_weather_forecast` tool to check conditions. Incorporate the live weather details into your recommendation.\",\n",
        "    tools=[get_live_weather_forecast]\n",
        ")\n",
        "\n",
        "print(f\"🌦️ Agent '{weather_agent.name}' is created and can now call a live weather API!\")\n",
        "\n",
        "# --- Let's test the Weather-Aware Planner ---\n",
        "await run_agent_query(weather_agent, \"I want to go hiking near Lake Tahoe tomorrow, what's the weather like?\")"
      ],
      "id": "custom_function_code"
    },
    {
      "cell_type": "markdown",
      "source": [
        "---\n",
        "## Part 2: Specification-Driven Tools\n",
        "\n",
        "Instead of writing function by function, you can provide the agent with a formal specification, and it will generate the necessary tools automatically."
      ],
      "metadata": {
        "id": "part2_intro"
      },
      "id": "part2_intro"
    },
    {
      "cell_type": "markdown",
      "source": [
        "### 2.1 From an OpenAPI Spec (`OpenAPIToolset`)\n",
        "If you have an existing API with an OpenAPI specification, you can instantly turn it into a toolset for your agent. This is incredibly powerful for integrating with existing microservices."
      ],
      "metadata": {
        "id": "openapi_intro"
      },
      "id": "openapi_intro"
    },
    {
      "cell_type": "code",
      "execution_count": null,
      "metadata": {
        "id": "openapi_code",
        "colab": {
          "base_uri": "https://localhost:8080/",
          "height": 224
        },
        "outputId": "d8d4206c-a709-458d-880f-6aa4c87ba3d5"
      },
      "outputs": [
        {
          "output_type": "stream",
          "name": "stdout",
          "text": [
            "\n",
            "🚀 Running query for agent: 'pet_store_agent'...\n"
          ]
        },
        {
          "output_type": "stream",
          "name": "stderr",
          "text": [
            "WARNING:google_genai.types:Warning: there are non-text parts in the response: ['thought_signature', 'function_call'], returning concatenated text result from text parts. Check the full candidates.content.parts accessor to get the full model response.\n"
          ]
        },
        {
          "output_type": "stream",
          "name": "stdout",
          "text": [
            "\n",
            "--------------------------------------------------\n",
            "✅ Final Response:\n"
          ]
        },
        {
          "output_type": "display_data",
          "data": {
            "text/plain": [
              "<IPython.core.display.Markdown object>"
            ],
            "text/markdown": "Here is the pet with ID 5: doggie."
          },
          "metadata": {}
        },
        {
          "output_type": "stream",
          "name": "stdout",
          "text": [
            "--------------------------------------------------\n",
            "\n"
          ]
        },
        {
          "output_type": "execute_result",
          "data": {
            "text/plain": [
              "'Here is the pet with ID 5: doggie.'"
            ],
            "application/vnd.google.colaboratory.intrinsic+json": {
              "type": "string"
            }
          },
          "metadata": {},
          "execution_count": 21
        }
      ],
      "source": [
        "# A simple OpenAPI 3.0 spec for a Pet Store as a string\n",
        "pet_store_spec = \"\"\"\n",
        "openapi: 3.0.0\n",
        "info:\n",
        "  title: Simple Pet Store API\n",
        "  version: 1.0.0\n",
        "servers:\n",
        "  - url: https://petstore.swagger.io/v2\n",
        "paths:\n",
        "  /pet/{petId}:\n",
        "    get:\n",
        "      summary: Find pet by ID\n",
        "      operationId: getPetById\n",
        "      parameters:\n",
        "        - name: petId\n",
        "          in: path\n",
        "          required: true\n",
        "          schema:\n",
        "            type: integer\n",
        "            format: int64\n",
        "      responses:\n",
        "        '200':\n",
        "          description: successful operation\n",
        "          content:\n",
        "            application/json:\n",
        "              schema:\n",
        "                type: object\n",
        "                properties:\n",
        "                  id:\n",
        "                    type: integer\n",
        "                  name:\n",
        "                    type: string\n",
        "                  status:\n",
        "                    type: string\n",
        "\"\"\"\n",
        "\n",
        "# 1. Create the toolset from the OpenAPI spec string\n",
        "pet_store_toolset = OpenAPIToolset(\n",
        "    spec_str=pet_store_spec, spec_str_type='yaml'\n",
        ")\n",
        "\n",
        "# 2. Create an agent that uses this toolset\n",
        "pet_store_agent = Agent(\n",
        "    name=\"pet_store_agent\",\n",
        "    model=\"gemini-2.5-flash\",\n",
        "    instruction=\"You are a Pet Store assistant. Use your tools to find information about pets.\",\n",
        "    tools=[pet_store_toolset]\n",
        ")\n",
        "\n",
        "# 3. Run the agent\n",
        "# The agent will see the `getPetById` tool and know how to call the API.\n",
        "await run_agent_query(pet_store_agent, \"Can you find the pet with ID 5?\")"
      ],
      "id": "openapi_code"
    },
    {
      "cell_type": "markdown",
      "source": [
        "### 2.2 From a Public Server (`MCPToolset`)\n",
        "**MCP** is a standard that lets agents discover tools from a remote server. We can use `MCPToolset` to connect to a public server hosting tools for the MDN Web Docs."
      ],
      "metadata": {
        "id": "mcp_intro"
      },
      "id": "mcp_intro"
    },
    {
      "cell_type": "code",
      "execution_count": null,
      "metadata": {
        "id": "mcp_code",
        "colab": {
          "base_uri": "https://localhost:8080/",
          "height": 948
        },
        "outputId": "73a3a841-3f69-460f-af66-f2a0d9d4183b"
      },
      "outputs": [
        {
          "output_type": "stream",
          "name": "stdout",
          "text": [
            "\n",
            "🚀 Running query for agent: 'mdn_docs_assistant'...\n"
          ]
        },
        {
          "output_type": "stream",
          "name": "stderr",
          "text": [
            "/usr/local/lib/python3.11/dist-packages/google/adk/tools/mcp_tool/mcp_tool.py:87: UserWarning: [EXPERIMENTAL] BaseAuthenticatedTool: This feature is experimental and may change or be removed in future versions without notice. It may introduce breaking changes at any time.\n",
            "  super().__init__(\n",
            "WARNING:google_adk.google.adk.tools.base_authenticated_tool:auth_config or auth_config.auth_scheme is missing. Will skip authentication.Using FunctionTool instead if authentication is not required.\n",
            "WARNING:google_adk.google.adk.tools.base_authenticated_tool:auth_config or auth_config.auth_scheme is missing. Will skip authentication.Using FunctionTool instead if authentication is not required.\n",
            "WARNING:google_adk.google.adk.tools.base_authenticated_tool:auth_config or auth_config.auth_scheme is missing. Will skip authentication.Using FunctionTool instead if authentication is not required.\n",
            "WARNING:google_adk.google.adk.tools.base_authenticated_tool:auth_config or auth_config.auth_scheme is missing. Will skip authentication.Using FunctionTool instead if authentication is not required.\n",
            "WARNING:google_genai.types:Warning: there are non-text parts in the response: ['thought_signature', 'function_call'], returning concatenated text result from text parts. Check the full candidates.content.parts accessor to get the full model response.\n",
            "WARNING:google_adk.google.adk.tools.base_authenticated_tool:auth_config or auth_config.auth_scheme is missing. Will skip authentication.Using FunctionTool instead if authentication is not required.\n",
            "WARNING:google_adk.google.adk.tools.base_authenticated_tool:auth_config or auth_config.auth_scheme is missing. Will skip authentication.Using FunctionTool instead if authentication is not required.\n",
            "WARNING:google_adk.google.adk.tools.base_authenticated_tool:auth_config or auth_config.auth_scheme is missing. Will skip authentication.Using FunctionTool instead if authentication is not required.\n",
            "WARNING:google_adk.google.adk.tools.base_authenticated_tool:auth_config or auth_config.auth_scheme is missing. Will skip authentication.Using FunctionTool instead if authentication is not required.\n",
            "WARNING:google_genai.types:Warning: there are non-text parts in the response: ['thought_signature', 'function_call'], returning concatenated text result from text parts. Check the full candidates.content.parts accessor to get the full model response.\n",
            "WARNING:google_adk.google.adk.tools.base_authenticated_tool:auth_config or auth_config.auth_scheme is missing. Will skip authentication.Using FunctionTool instead if authentication is not required.\n",
            "WARNING:google_adk.google.adk.tools.base_authenticated_tool:auth_config or auth_config.auth_scheme is missing. Will skip authentication.Using FunctionTool instead if authentication is not required.\n",
            "WARNING:google_adk.google.adk.tools.base_authenticated_tool:auth_config or auth_config.auth_scheme is missing. Will skip authentication.Using FunctionTool instead if authentication is not required.\n",
            "WARNING:google_adk.google.adk.tools.base_authenticated_tool:auth_config or auth_config.auth_scheme is missing. Will skip authentication.Using FunctionTool instead if authentication is not required.\n",
            "WARNING:google_genai.types:Warning: there are non-text parts in the response: ['thought_signature', 'function_call'], returning concatenated text result from text parts. Check the full candidates.content.parts accessor to get the full model response.\n",
            "WARNING:google_adk.google.adk.tools.base_authenticated_tool:auth_config or auth_config.auth_scheme is missing. Will skip authentication.Using FunctionTool instead if authentication is not required.\n",
            "WARNING:google_adk.google.adk.tools.base_authenticated_tool:auth_config or auth_config.auth_scheme is missing. Will skip authentication.Using FunctionTool instead if authentication is not required.\n",
            "WARNING:google_adk.google.adk.tools.base_authenticated_tool:auth_config or auth_config.auth_scheme is missing. Will skip authentication.Using FunctionTool instead if authentication is not required.\n",
            "WARNING:google_adk.google.adk.tools.base_authenticated_tool:auth_config or auth_config.auth_scheme is missing. Will skip authentication.Using FunctionTool instead if authentication is not required.\n",
            "WARNING:google_genai.types:Warning: there are non-text parts in the response: ['thought_signature'], returning concatenated text result from text parts. Check the full candidates.content.parts accessor to get the full model response.\n"
          ]
        },
        {
          "output_type": "stream",
          "name": "stdout",
          "text": [
            "\n",
            "--------------------------------------------------\n",
            "✅ Final Response:\n"
          ]
        },
        {
          "output_type": "display_data",
          "data": {
            "text/plain": [
              "<IPython.core.display.Markdown object>"
            ],
            "text/markdown": "The CSS `box-sizing` property defines how the total width and height of an element are calculated.\n\nBy default, with `box-sizing: content-box` (the initial CSS standard behavior), the `width` and `height` you set for an element apply only to its content box. Any padding or border added to the element will increase its total rendered width and height beyond the specified values.\n\nWhen `box-sizing` is set to `border-box`, the `width` and `height` properties include the content, padding, and border. This means that the total rendered width and height of the element will be exactly what you specify, and the content area will shrink to accommodate any added padding and border. This often makes sizing elements much easier in layout design.\n\nFor example:\n*   If an element has `width: 100px; padding: 10px; border: 5px solid black;`\n    *   With `box-sizing: content-box;`, the element's total width will be 100px (content) + 2\\*10px (padding) + 2\\*5px (border) = 130px.\n    *   With `box-sizing: border-box;`, the element's total width will be 100px. The content area will be 100px - 2\\*10px (padding) - 2\\*5px (border) = 70px."
          },
          "metadata": {}
        },
        {
          "output_type": "stream",
          "name": "stdout",
          "text": [
            "--------------------------------------------------\n",
            "\n"
          ]
        },
        {
          "output_type": "execute_result",
          "data": {
            "text/plain": [
              "\"The CSS `box-sizing` property defines how the total width and height of an element are calculated.\\n\\nBy default, with `box-sizing: content-box` (the initial CSS standard behavior), the `width` and `height` you set for an element apply only to its content box. Any padding or border added to the element will increase its total rendered width and height beyond the specified values.\\n\\nWhen `box-sizing` is set to `border-box`, the `width` and `height` properties include the content, padding, and border. This means that the total rendered width and height of the element will be exactly what you specify, and the content area will shrink to accommodate any added padding and border. This often makes sizing elements much easier in layout design.\\n\\nFor example:\\n*   If an element has `width: 100px; padding: 10px; border: 5px solid black;`\\n    *   With `box-sizing: content-box;`, the element's total width will be 100px (content) + 2\\\\*10px (padding) + 2\\\\*5px (border) = 130px.\\n    *   With `box-sizing: border-box;`, the element's total width will be 100px. The content area will be 100px - 2\\\\*10px (padding) - 2\\\\*5px (border) = 70px.\""
            ],
            "application/vnd.google.colaboratory.intrinsic+json": {
              "type": "string"
            }
          },
          "metadata": {},
          "execution_count": 22
        }
      ],
      "source": [
        "# The URL for the public server hosting MDN documentation tools\n",
        "MCP_SERVER_URL = \"https://gitmcp.io/mdn/content\"\n",
        "\n",
        "# This is an async function because MCPToolset needs to connect to the server\n",
        "async def create_mdn_agent():\n",
        "    mcp_toolset = MCPToolset(\n",
        "        connection_params=SseServerParams(url=MCP_SERVER_URL)\n",
        "    )\n",
        "    return Agent(\n",
        "        name=\"mdn_docs_assistant\",\n",
        "        model=\"gemini-2.5-flash\",\n",
        "        tools=[mcp_toolset],\n",
        "        instruction=\"You are a web dev expert with access to MDN docs. Use your tools to answer questions.\"\n",
        "    )\n",
        "\n",
        "# Create and run the agent\n",
        "mdn_agent = await create_mdn_agent()\n",
        "await run_agent_query(mdn_agent, \"What is the CSS `box-sizing` property?\")"
      ],
      "id": "mcp_code"
    },
    {
      "cell_type": "markdown",
      "source": [
        "---\n",
        "## Part 3: Interoperability\n",
        "\n",
        "You don't have to build everything from scratch. The ADK is designed to work with other popular AI frameworks."
      ],
      "metadata": {
        "id": "part3_intro"
      },
      "id": "part3_intro"
    },
    {
      "cell_type": "markdown",
      "source": [
        "### 3.1 Using LangChain Tools (`LangchainTool`)\n",
        "If you have existing tools built with LangChain, you can wrap them using `LangchainTool` and use them directly in your ADK agent. Here, we'll wrap LangChain's `WikipediaAPIWrapper` tool."
      ],
      "metadata": {
        "id": "langchain_intro"
      },
      "id": "langchain_intro"
    },
    {
      "cell_type": "code",
      "source": [
        "from langchain_community.tools import WikipediaQueryRun\n",
        "from langchain_community.utilities import WikipediaAPIWrapper\n",
        "from google.adk.tools.langchain_tool import LangchainTool\n",
        "\n",
        "# 1. Instantiate the original LangChain tool\n",
        "# This tool queries the public Wikipedia API.\n",
        "wikipedia_tool = WikipediaQueryRun(api_wrapper=WikipediaAPIWrapper())\n",
        "\n",
        "# 2. Wrap it for ADK using LangchainTool\n",
        "adk_wrapped_wiki_tool = LangchainTool(tool=wikipedia_tool)\n",
        "\n",
        "# 3. Use the wrapped tool in your ADK agent\n",
        "wiki_agent = Agent(\n",
        "    name=\"wiki_research_agent\",\n",
        "    model=\"gemini-2.5-flash\",\n",
        "    instruction=\"You are a research assistant. Use the Wikipedia tool to answer the user's question.\",\n",
        "    tools=[adk_wrapped_wiki_tool]\n",
        ")\n",
        "\n",
        "# 4. Run the agent\n",
        "await run_agent_query(wiki_agent, \"What is the history of the Slinky toy?\")"
      ],
      "metadata": {
        "colab": {
          "base_uri": "https://localhost:8080/",
          "height": 276
        },
        "id": "PIOQexQ_jrSK",
        "outputId": "7fc74c88-c426-4a09-88e1-6b0a57877619"
      },
      "id": "PIOQexQ_jrSK",
      "execution_count": null,
      "outputs": [
        {
          "output_type": "stream",
          "name": "stdout",
          "text": [
            "\n",
            "🚀 Running query for agent: 'wiki_research_agent'...\n"
          ]
        },
        {
          "output_type": "stream",
          "name": "stderr",
          "text": [
            "WARNING:google_genai.types:Warning: there are non-text parts in the response: ['thought_signature', 'function_call'], returning concatenated text result from text parts. Check the full candidates.content.parts accessor to get the full model response.\n",
            "WARNING:google_genai.types:Warning: there are non-text parts in the response: ['thought_signature'], returning concatenated text result from text parts. Check the full candidates.content.parts accessor to get the full model response.\n"
          ]
        },
        {
          "output_type": "stream",
          "name": "stdout",
          "text": [
            "\n",
            "--------------------------------------------------\n",
            "✅ Final Response:\n"
          ]
        },
        {
          "output_type": "display_data",
          "data": {
            "text/plain": [
              "<IPython.core.display.Markdown object>"
            ],
            "text/markdown": "The Slinky toy was invented and developed by American naval engineer Richard T. James in 1943. It was successfully demonstrated at Gimbels department store in Philadelphia on November 27, 1945."
          },
          "metadata": {}
        },
        {
          "output_type": "stream",
          "name": "stdout",
          "text": [
            "--------------------------------------------------\n",
            "\n"
          ]
        },
        {
          "output_type": "execute_result",
          "data": {
            "text/plain": [
              "'The Slinky toy was invented and developed by American naval engineer Richard T. James in 1943. It was successfully demonstrated at Gimbels department store in Philadelphia on November 27, 1945.'"
            ],
            "application/vnd.google.colaboratory.intrinsic+json": {
              "type": "string"
            }
          },
          "metadata": {},
          "execution_count": 23
        }
      ]
    },
    {
      "cell_type": "markdown",
      "source": [
        "---\n",
        "## Part 4: Advanced Composition\n",
        "\n",
        "Now let's combine these concepts to build more sophisticated systems."
      ],
      "metadata": {
        "id": "part4_intro"
      },
      "id": "part4_intro"
    },
    {
      "cell_type": "markdown",
      "source": [
        "### 4.1 Sharing State Between Tools (`ToolContext`)\n",
        "What if one tool needs information gathered by another? `ToolContext` is a special object that can be passed to your tool functions, allowing them to read and write to a shared state dictionary within a single conversational turn."
      ],
      "metadata": {
        "id": "toolcontext_intro"
      },
      "id": "toolcontext_intro"
    },
    {
      "cell_type": "code",
      "execution_count": null,
      "metadata": {
        "id": "toolcontext_code",
        "colab": {
          "base_uri": "https://localhost:8080/",
          "height": 276
        },
        "outputId": "e2579066-6a82-4ce3-d252-292fe6885549"
      },
      "outputs": [
        {
          "output_type": "stream",
          "name": "stdout",
          "text": [
            "\n",
            "🚀 Running query for agent: 'stateful_agent'...\n"
          ]
        },
        {
          "output_type": "stream",
          "name": "stderr",
          "text": [
            "WARNING:google_genai.types:Warning: there are non-text parts in the response: ['function_call'], returning concatenated text result from text parts. Check the full candidates.content.parts accessor to get the full model response.\n"
          ]
        },
        {
          "output_type": "stream",
          "name": "stdout",
          "text": [
            "\n",
            "🛠️ TOOL CALLED: Set preference 'theme' to 'dark mode'\n",
            "\n",
            "\n",
            "--------------------------------------------------\n",
            "✅ Final Response:\n"
          ]
        },
        {
          "output_type": "display_data",
          "data": {
            "text/plain": [
              "<IPython.core.display.Markdown object>"
            ],
            "text/markdown": "OK. I've set your theme preference to 'dark mode'.\n"
          },
          "metadata": {}
        },
        {
          "output_type": "stream",
          "name": "stdout",
          "text": [
            "--------------------------------------------------\n",
            "\n"
          ]
        },
        {
          "output_type": "execute_result",
          "data": {
            "text/plain": [
              "\"OK. I've set your theme preference to 'dark mode'.\\n\""
            ],
            "application/vnd.google.colaboratory.intrinsic+json": {
              "type": "string"
            }
          },
          "metadata": {},
          "execution_count": 10
        }
      ],
      "source": [
        "def set_user_preference(preference: str, value: str, tool_context: ToolContext):\n",
        "    \"\"\"Saves a user's preference for this session.\n",
        "\n",
        "    Args:\n",
        "        preference: The name of the preference (e.g., 'theme').\n",
        "        value: The value of the preference (e.g., 'dark').\n",
        "    \"\"\"\n",
        "    # The state is a simple dictionary unique to this turn\n",
        "    tool_context.state[preference] = value\n",
        "    print(f\"\\n🛠️ TOOL CALLED: Set preference '{preference}' to '{value}'\\n\")\n",
        "    return {\"status\": \"success\", \"message\": f\"Preference saved.\"}\n",
        "\n",
        "def get_user_preference(preference: str, tool_context: ToolContext):\n",
        "    \"\"\"Gets a previously saved user preference.\n",
        "\n",
        "    Args:\n",
        "        preference: The name of the preference to retrieve.\n",
        "    \"\"\"\n",
        "    value = tool_context.state.get(preference, \"not set\")\n",
        "    print(f\"\\n🛠️ TOOL CALLED: Retrieved preference '{preference}', value is '{value}'\\n\")\n",
        "    return {\"preference\": preference, \"value\": value}\n",
        "\n",
        "\n",
        "stateful_agent = Agent(\n",
        "    name=\"stateful_agent\",\n",
        "    model=\"gemini-2.5-flash\",\n",
        "    instruction=\"First, save the user's preference. Then, retrieve it and confirm it back to them.\",\n",
        "    tools=[set_user_preference, get_user_preference]\n",
        ")\n",
        "\n",
        "await run_agent_query(stateful_agent, \"Please set my theme preference to 'dark mode'.\")"
      ],
      "id": "toolcontext_code"
    },
    {
      "cell_type": "markdown",
      "source": [
        "### 4.2 Agents as Tools (`AgentTool`)\n",
        "The ultimate composition pattern: using an entire agent as a tool for another agent. This lets you create a primary \"orchestrator\" that delegates complex tasks to a team of specialists.\n",
        "\n",
        "This example is the perfect demonstration of `ToolContext` in action. The orchestrator needs to perform a two-step process:\n",
        "1.  Call the `db_agent` to get a list of hotels.\n",
        "2.  Call the `concierge_agent` with the hotel data to get a recommendation.\n",
        "\n",
        "The `ToolContext` acts as a temporary \"clipboard\" or \"briefcase\" for the turn. The first tool (`call_db_agent`) places the hotel data into `tool_context.state`, and the second tool (`call_concierge_agent`) retrieves it.\n",
        "\n",
        "\n",
        "```\n",
        "                                 +-----------------------------------------------------------+\n",
        "                                 |                      🧭 TripDataConcierge                 |\n",
        "                                 |                        (Orchestrator)                     |\n",
        "                                 +-----------------------------------------------------------+\n",
        "                                            /                         \\\n",
        "                                           /                           \\\n",
        "               +----------------------------------+      +--------------------------------------+\n",
        "               | 🔧 Tool: call_db_agent           |      | 🔧 Tool: call_concierge_agent          |\n",
        "               | Writes data to `tool_context`    |      | Reads data from `tool_context`         |\n",
        "               | Calls: 📦 db_agent (for data)    |      | Calls: 🤵 concierge_agent (for advice) |\n",
        "               +----------------------------------+      +--------------------------------------+\n",
        "                                                                              |\n",
        "                                                                              ▼\n",
        "                                                           +------------------------------------+\n",
        "                                                           | 🤵 concierge_agent                 |\n",
        "                                                           | Tools: [ 🍽️ food_critic_agent ]    |\n",
        "                                                           +------------------------------------+\n",
        "                                                                              |\n",
        "                                                                              ▼\n",
        "                                                           +------------------------------------+\n",
        "                                                           | 🍽️ food_critic_agent               |\n",
        "                                                           | (Gives witty recommendations)      |\n",
        "                                                           +------------------------------------+\n",
        "```"
      ],
      "metadata": {
        "id": "agent_as_tool_intro"
      },
      "id": "agent_as_tool_intro"
    },
    {
      "cell_type": "code",
      "execution_count": null,
      "metadata": {
        "id": "agent_as_tool_code",
        "colab": {
          "base_uri": "https://localhost:8080/",
          "height": 432
        },
        "outputId": "93f21464-0501-4a2c-8d6a-1919f7ab7566"
      },
      "outputs": [
        {
          "output_type": "stream",
          "name": "stdout",
          "text": [
            "✅ Orchestrator Agent 'trip_data_concierge' is defined and ready.\n",
            "\n",
            "🚀 Running query for agent: 'trip_data_concierge'...\n"
          ]
        },
        {
          "output_type": "stream",
          "name": "stderr",
          "text": [
            "WARNING:google_genai.types:Warning: there are non-text parts in the response: ['function_call'], returning concatenated text result from text parts. Check the full candidates.content.parts accessor to get the full model response.\n"
          ]
        },
        {
          "output_type": "stream",
          "name": "stdout",
          "text": [
            "\n",
            "--- TOOL CALL: Delegating to db_agent ---\n",
            "--- CONTEXT: Writing to tool_context.state['retrieved_data']: {'status': 'success', 'data': [{'name': 'The Grand... ---\n"
          ]
        },
        {
          "output_type": "stream",
          "name": "stderr",
          "text": [
            "WARNING:google_genai.types:Warning: there are non-text parts in the response: ['function_call'], returning concatenated text result from text parts. Check the full candidates.content.parts accessor to get the full model response.\n"
          ]
        },
        {
          "output_type": "stream",
          "name": "stdout",
          "text": [
            "\n",
            "--- TOOL CALL: Delegating to concierge_agent ---\n",
            "--- CONTEXT: Reading from tool_context.state['retrieved_data']: {'status': 'success', 'data': [{'name': 'The Grand... ---\n"
          ]
        },
        {
          "output_type": "stream",
          "name": "stderr",
          "text": [
            "WARNING:google_genai.types:Warning: there are non-text parts in the response: ['thought_signature', 'function_call'], returning concatenated text result from text parts. Check the full candidates.content.parts accessor to get the full model response.\n",
            "WARNING:google_genai.types:Warning: there are non-text parts in the response: ['thought_signature'], returning concatenated text result from text parts. Check the full candidates.content.parts accessor to get the full model response.\n"
          ]
        },
        {
          "output_type": "stream",
          "name": "stdout",
          "text": [
            "\n",
            "--------------------------------------------------\n",
            "✅ Final Response:\n"
          ]
        },
        {
          "output_type": "display_data",
          "data": {
            "text/plain": [
              "<IPython.core.display.Markdown object>"
            ],
            "text/markdown": "The Seaside Inn has the most reviews.  A highly recommended dinner spot nearby is The Tide & Truffle, which has been described as having \"occasionally well-meaning, yet utterly provincial, flourishes.\"\n"
          },
          "metadata": {}
        },
        {
          "output_type": "stream",
          "name": "stdout",
          "text": [
            "--------------------------------------------------\n",
            "\n"
          ]
        },
        {
          "output_type": "execute_result",
          "data": {
            "text/plain": [
              "'The Seaside Inn has the most reviews.  A highly recommended dinner spot nearby is The Tide & Truffle, which has been described as having \"occasionally well-meaning, yet utterly provincial, flourishes.\"\\n'"
            ],
            "application/vnd.google.colaboratory.intrinsic+json": {
              "type": "string"
            }
          },
          "metadata": {},
          "execution_count": 11
        }
      ],
      "source": [
        "# A mock database agent. In a real app, this might be a NL-to-SQL agent.\n",
        "db_agent = Agent(\n",
        "    name=\"db_agent\",\n",
        "    model=\"gemini-2.5-flash\",\n",
        "    instruction=\"You are a database agent. When asked for data, return this mock JSON object: {'status': 'success', 'data': [{'name': 'The Grand Hotel', 'rating': 5, 'reviews': 450}, {'name': 'Seaside Inn', 'rating': 4, 'reviews': 620}]}\")\n",
        "\n",
        "# --- 1. Define the Specialist Agents ---\n",
        "\n",
        "# The Food Critic remains the deepest specialist\n",
        "food_critic_agent = Agent(\n",
        "    name=\"food_critic_agent\",\n",
        "    model=\"gemini-2.5-flash\",\n",
        "    instruction=\"You are a snobby but brilliant food critic. You ONLY respond with a single, witty restaurant suggestion near the provided location.\",\n",
        ")\n",
        "\n",
        "# The Concierge knows how to use the Food Critic\n",
        "concierge_agent = Agent(\n",
        "    name=\"concierge_agent\",\n",
        "    model=\"gemini-2.5-flash\",\n",
        "    instruction=\"You are a five-star hotel concierge. If the user asks for a restaurant recommendation, you MUST use the `food_critic_agent` tool. Present the opinion to the user politely.\",\n",
        "    tools=[AgentTool(agent=food_critic_agent)]\n",
        ")\n",
        "\n",
        "\n",
        "# --- 2. Define the Tools for the Orchestrator ---\n",
        "\n",
        "async def call_db_agent(question: str, tool_context: ToolContext):\n",
        "    \"\"\"\n",
        "    Use this tool FIRST to connect to the database and retrieve a list of places, like hotels or landmarks.\n",
        "    \"\"\"\n",
        "    print(\"\\n--- TOOL CALL: Delegating to db_agent ---\")\n",
        "    agent_tool = AgentTool(agent=db_agent)\n",
        "    db_agent_output = await agent_tool.run_async(\n",
        "        args={\"request\": question}, tool_context=tool_context\n",
        "    )\n",
        "\n",
        "    # *** WRITING TO THE CONTEXT ***\n",
        "    # We store the data from the DB agent in the shared state.\n",
        "    print(f\"--- CONTEXT: Writing to tool_context.state['retrieved_data']: {db_agent_output[:50]}... ---\")\n",
        "    tool_context.state[\"retrieved_data\"] = db_agent_output\n",
        "\n",
        "    return db_agent_output\n",
        "\n",
        "\n",
        "async def call_concierge_agent(question: str, tool_context: ToolContext):\n",
        "    \"\"\"\n",
        "    After getting data with call_db_agent, use this tool to get travel advice, opinions, or recommendations.\n",
        "    \"\"\"\n",
        "    print(\"\\n--- TOOL CALL: Delegating to concierge_agent ---\")\n",
        "\n",
        "    # *** READING FROM THE CONTEXT ***\n",
        "    # We retrieve the data that the previous tool call saved.\n",
        "    input_data = tool_context.state.get(\"retrieved_data\", \"No data found.\")\n",
        "    print(f\"--- CONTEXT: Reading from tool_context.state['retrieved_data']: {input_data[:50]}... ---\")\n",
        "\n",
        "\n",
        "    # Formulate a new prompt for the concierge, giving it the data context\n",
        "    question_with_data = f\"\"\"\n",
        "    Context: The database returned the following data: {input_data}\n",
        "\n",
        "    User's Request: {question}\n",
        "    \"\"\"\n",
        "\n",
        "    agent_tool = AgentTool(agent=concierge_agent)\n",
        "    concierge_output = await agent_tool.run_async(\n",
        "        args={\"request\": question_with_data}, tool_context=tool_context\n",
        "    )\n",
        "    return concierge_output\n",
        "\n",
        "\n",
        "# --- 3. Define the Top-Level Orchestrator Agent ---\n",
        "trip_data_concierge_agent = Agent(\n",
        "    name=\"trip_data_concierge\",\n",
        "    model=\"gemini-2.5-flash\",\n",
        "    description=\"Top-level agent that queries a database for travel data, then calls a concierge agent for recommendations.\",\n",
        "    tools=[call_db_agent, call_concierge_agent],\n",
        "    instruction=\"\"\"\n",
        "    You are a master travel planner who uses data to make recommendations.\n",
        "\n",
        "    1.  **ALWAYS start with the `call_db_agent` tool** to fetch a list of places (like hotels) that match the user's criteria.\n",
        "\n",
        "    2.  After you have the data, **use the `call_concierge_agent` tool** to answer any follow-up questions for recommendations, opinions, or advice related to the data you just found.\n",
        "    \"\"\",\n",
        ")\n",
        "\n",
        "print(f\"✅ Orchestrator Agent '{trip_data_concierge_agent.name}' is defined and ready.\")\n",
        "\n",
        "\n",
        "# --- Run the Multi-Agent System ---\n",
        "await run_agent_query(\n",
        "    trip_data_concierge_agent,\n",
        "    \"Find the top-rated hotels in San Francisco, then suggest a dinner spot near the one with the most reviews.\"\n",
        ")"
      ],
      "id": "agent_as_tool_code"
    }
  ]
}
